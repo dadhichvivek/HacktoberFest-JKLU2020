{
 "cells": [
  {
   "cell_type": "code",
   "execution_count": 2,
   "metadata": {},
   "outputs": [
    {
     "name": "stdout",
     "output_type": "stream",
     "text": [
      "sum of first  10 even number is:  110\n"
     ]
    }
   ],
   "source": [
    "# Python3 implementation to find sum of \n",
    "# first n even numbers \n",
    "\t\n",
    "# function to find sum of \n",
    "# first n even numbers \n",
    "def evensum(n): \n",
    "\tcurr = 2\n",
    "\tsum = 0\n",
    "\ti = 1\n",
    "\t\n",
    "\t# sum of first n even numbers \n",
    "\twhile i <= n: \n",
    "\t\tsum += curr \n",
    "\t\t\n",
    "\t\t# next even number \n",
    "\t\tcurr += 2\n",
    "\t\ti = i + 1\n",
    "\treturn sum\n",
    "\n",
    "# Driver Code \n",
    "n = 10\n",
    "print(\"sum of first \", n, \"even number is: \", \n",
    "\tevensum(n)) "
   ]
  },
  {
   "cell_type": "code",
   "execution_count": null,
   "metadata": {},
   "outputs": [],
   "source": []
  }
 ],
 "metadata": {
  "kernelspec": {
   "display_name": "Python 3",
   "language": "python",
   "name": "python3"
  },
  "language_info": {
   "codemirror_mode": {
    "name": "ipython",
    "version": 3
   },
   "file_extension": ".py",
   "mimetype": "text/x-python",
   "name": "python",
   "nbconvert_exporter": "python",
   "pygments_lexer": "ipython3",
   "version": "3.7.3"
  }
 },
 "nbformat": 4,
 "nbformat_minor": 2
}
